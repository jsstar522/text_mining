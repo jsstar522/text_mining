{
  "nbformat": 4,
  "nbformat_minor": 0,
  "metadata": {
    "colab": {
      "name": "pythonBasic.ipynb",
      "version": "0.3.2",
      "provenance": [],
      "collapsed_sections": [
        "9czJB2yjKbAZ"
      ],
      "include_colab_link": true
    },
    "kernelspec": {
      "name": "python3",
      "display_name": "Python 3"
    }
  },
  "cells": [
    {
      "cell_type": "markdown",
      "metadata": {
        "id": "view-in-github",
        "colab_type": "text"
      },
      "source": [
        "<a href=\"https://colab.research.google.com/github/jsstar522/text_mining/blob/master/01_Basic/pythonBasic.ipynb\" target=\"_parent\"><img src=\"https://colab.research.google.com/assets/colab-badge.svg\" alt=\"Open In Colab\"/></a>"
      ]
    },
    {
      "metadata": {
        "id": "GaM9zcpOIgc_",
        "colab_type": "text"
      },
      "cell_type": "markdown",
      "source": [
        "# JSON 파일 이해하기"
      ]
    },
    {
      "metadata": {
        "id": "LpZPie_cKf24",
        "colab_type": "text"
      },
      "cell_type": "markdown",
      "source": [
        "##JSON 파일의 구조"
      ]
    },
    {
      "metadata": {
        "id": "rauQaRKYJZCT",
        "colab_type": "text"
      },
      "cell_type": "markdown",
      "source": [
        "**JSON은 Javascript Object Notation의 약자로 자바스크립트 문법으로 쓰여진 문서입니다. 자바스크립트에서 변수를 정의하는 방법으로 데이터를 저장하기 때문에 key와 value값이 존재해 사람이 읽기에도 굉장히 편합니다.** 자바스크립트 문법으로 쓰여있지만 다른 언어와의 호환성도 높습니다."
      ]
    },
    {
      "metadata": {
        "id": "gE82g_W4JeIt",
        "colab_type": "code",
        "colab": {}
      },
      "cell_type": "code",
      "source": [
        "## key : value의 형태로 사용\n",
        "day = {\n",
        "    ## 배열을 사용할 수 있다.\n",
        "    'dayOfWeek' : ['Mon','Thu','Wed'],\n",
        "    \n",
        "    ## 객체로 사용할 수 있다.(객체는 {}로 표현한다)\n",
        "    'dayOfMonth' : {\n",
        "        'Jan': 1,\n",
        "        'Feb': 2\n",
        "    },\n",
        "    \n",
        "    ## 정수를 대입할 수 있다.\n",
        "    'dayOfYeer' : 3\n",
        "    \n",
        "}"
      ],
      "execution_count": 0,
      "outputs": []
    },
    {
      "metadata": {
        "id": "aeVeWEWf-I4D",
        "colab_type": "code",
        "outputId": "a916dc24-8fab-4f2b-822d-174272cdeb5a",
        "colab": {
          "base_uri": "https://localhost:8080/",
          "height": 34
        }
      },
      "cell_type": "code",
      "source": [
        "day['dayOfYeer']"
      ],
      "execution_count": 0,
      "outputs": [
        {
          "output_type": "execute_result",
          "data": {
            "text/plain": [
              "3"
            ]
          },
          "metadata": {
            "tags": []
          },
          "execution_count": 13
        }
      ]
    },
    {
      "metadata": {
        "id": "6IfbNhOK-ZoJ",
        "colab_type": "text"
      },
      "cell_type": "markdown",
      "source": [
        "'day'라는 dictionary (**key와 value로 구성되어 있는 자료구조를 dictionary라고 합니다.**)에는 'dayOfMonth'라는 또다른 dictionary가 존재합니다. 한층더 깊은 곳에 dict이 존재하기 때문에 다음과 같이 'dayOfMonth'의 value값들을 불러올 수 있습니다."
      ]
    },
    {
      "metadata": {
        "id": "dBYFfxQzAlxj",
        "colab_type": "code",
        "outputId": "43a5bab4-df11-44c1-ea70-cd39f9c20b62",
        "colab": {
          "base_uri": "https://localhost:8080/",
          "height": 34
        }
      },
      "cell_type": "code",
      "source": [
        "day['dayOfMonth']['Jan']"
      ],
      "execution_count": 0,
      "outputs": [
        {
          "output_type": "execute_result",
          "data": {
            "text/plain": [
              "1"
            ]
          },
          "metadata": {
            "tags": []
          },
          "execution_count": 14
        }
      ]
    },
    {
      "metadata": {
        "id": "jC-OE5x9Ap_a",
        "colab_type": "text"
      },
      "cell_type": "markdown",
      "source": [
        "맨 위에서 pprint라는 모듈을 import했을 때, 더 깔끔한 출력을 위해서 사용한다고 언급했습니다. pprint는 이러한 dict 자료구조에 많이 사용됩니다."
      ]
    },
    {
      "metadata": {
        "id": "4HdNizEwA-SL",
        "colab_type": "code",
        "outputId": "c129ae3c-b7bb-46ac-c038-cc7a7d7db8a0",
        "colab": {
          "base_uri": "https://localhost:8080/",
          "height": 102
        }
      },
      "cell_type": "code",
      "source": [
        "## 그냥 출력\n",
        "print(day)\n",
        "\n",
        "print('-----------------------------------------------------------------------------------------')\n",
        "\n",
        "## pprint 이용\n",
        "pprint(day)"
      ],
      "execution_count": 0,
      "outputs": [
        {
          "output_type": "stream",
          "text": [
            "{'dayOfWeek': ['Mon', 'Thu', 'Wed'], 'dayOfMonth': {'Jan': 1, 'Feb': 2}, 'dayOfYeer': 3}\n",
            "-----------------------------------------------------------------------------------------\n",
            "{'dayOfMonth': {'Feb': 2, 'Jan': 1},\n",
            " 'dayOfWeek': ['Mon', 'Thu', 'Wed'],\n",
            " 'dayOfYeer': 3}\n"
          ],
          "name": "stdout"
        }
      ]
    },
    {
      "metadata": {
        "id": "9czJB2yjKbAZ",
        "colab_type": "text"
      },
      "cell_type": "markdown",
      "source": [
        "## JSON파일 저장"
      ]
    },
    {
      "metadata": {
        "id": "_W0yexXvBDnz",
        "colab_type": "text"
      },
      "cell_type": "markdown",
      "source": [
        "JSON 파일을 저장해보겠습니다. (저장시 폴더를 함께 만들 수 있습니다.)"
      ]
    },
    {
      "metadata": {
        "id": "wY8ALPHVClMA",
        "colab_type": "code",
        "outputId": "39a519ba-2004-46b7-c098-dcce2f08414c",
        "colab": {
          "base_uri": "https://localhost:8080/",
          "height": 34
        }
      },
      "cell_type": "code",
      "source": [
        "fname = 'temp/day.json'\n",
        "\n",
        "## /을 기준으로 자른 뒤, 앞뒤 선택\n",
        "folder = fname.split('/')[0]\n",
        "\n",
        "print(fname, folder)"
      ],
      "execution_count": 0,
      "outputs": [
        {
          "output_type": "stream",
          "text": [
            "temp/day.json temp\n"
          ],
          "name": "stdout"
        }
      ]
    },
    {
      "metadata": {
        "id": "rPjBEG_4CpPq",
        "colab_type": "code",
        "outputId": "18f497a5-d1b5-41b1-f460-f01dc7625add",
        "colab": {
          "base_uri": "https://localhost:8080/",
          "height": 34
        }
      },
      "cell_type": "code",
      "source": [
        "import os\n",
        "\n",
        "## 폴더존재 유무\n",
        "print(os.path.exists(folder))\n"
      ],
      "execution_count": 0,
      "outputs": [
        {
          "output_type": "stream",
          "text": [
            "False\n"
          ],
          "name": "stdout"
        }
      ]
    },
    {
      "metadata": {
        "id": "yZpyBT-2DLOF",
        "colab_type": "code",
        "outputId": "b5efe3b6-f6f3-47f1-9877-dfe114568f32",
        "colab": {
          "base_uri": "https://localhost:8080/",
          "height": 34
        }
      },
      "cell_type": "code",
      "source": [
        "## 폴더가 없을 경우 만들 수 있다.\n",
        "if not os.path.exists(folder):\n",
        "    os.makedirs(folder)\n",
        "    \n",
        "print(os.path.exists(folder))"
      ],
      "execution_count": 0,
      "outputs": [
        {
          "output_type": "stream",
          "text": [
            "True\n"
          ],
          "name": "stdout"
        }
      ]
    },
    {
      "metadata": {
        "id": "oe6vK6g2D1qb",
        "colab_type": "code",
        "outputId": "f44bdee2-fb3e-4c14-8bd4-4e0efeb13d1d",
        "colab": {
          "base_uri": "https://localhost:8080/",
          "height": 34
        }
      },
      "cell_type": "code",
      "source": [
        "ls"
      ],
      "execution_count": 0,
      "outputs": [
        {
          "output_type": "stream",
          "text": [
            "\u001b[0m\u001b[01;34msample_data\u001b[0m/  \u001b[01;34mtemp\u001b[0m/\n"
          ],
          "name": "stdout"
        }
      ]
    },
    {
      "metadata": {
        "id": "wZKPFyWhD25F",
        "colab_type": "text"
      },
      "cell_type": "markdown",
      "source": [
        "이제 temp/ 폴더를 열어서 json.dump 메서드로 day.json 파일을 쓰겠습니다. **open( )는 파일을 읽거나 쓸 때 사용하는 함수입니다. 파일은 경로가 열려 있는 상태에서만 저장해야 합니다. 이 사실을 간과하면 많은 양의 JSON파일을 저장할 때 오류가 생길 수 있습니다.** 그리고 반드시 한글호환을 위해서는 utf-8로 인코딩 해야합니다. 그렇지 않으면 주석과 같은 한글이 깨질 수 있습니다.\n",
        "\n",
        "```\n",
        "Open(파일경로이름, 열기모드)\n",
        "(열기모드 = r : 읽기모드, w : 쓰기모드, a : 추가모드)\n",
        "```\n",
        "\n"
      ]
    },
    {
      "metadata": {
        "id": "o-EaMmo1Ehr8",
        "colab_type": "code",
        "colab": {}
      },
      "cell_type": "code",
      "source": [
        "import json\n",
        "\n",
        "with open('temp/day.json','w',encoding='utf-8') as f:\n",
        "    json.dump(day, f)"
      ],
      "execution_count": 0,
      "outputs": []
    },
    {
      "metadata": {
        "id": "zVvG8xFLHW9S",
        "colab_type": "code",
        "outputId": "30216194-25f2-4066-9f30-328d2a82cbce",
        "colab": {
          "base_uri": "https://localhost:8080/",
          "height": 34
        }
      },
      "cell_type": "code",
      "source": [
        "ls temp/"
      ],
      "execution_count": 0,
      "outputs": [
        {
          "output_type": "stream",
          "text": [
            "day.json\n"
          ],
          "name": "stdout"
        }
      ]
    },
    {
      "metadata": {
        "id": "2bdQPSgAHbKS",
        "colab_type": "text"
      },
      "cell_type": "markdown",
      "source": [
        "이제 JSON파일이 만들어졌습니다. 만들어진 파일에 값을 추가하거나 수정하고 싶다면 다음과 같이 입력하면 됩니다."
      ]
    },
    {
      "metadata": {
        "id": "KEhR45yrHyWL",
        "colab_type": "code",
        "outputId": "a2fb4b26-5c7a-4350-bff0-e457dd00aa63",
        "colab": {
          "base_uri": "https://localhost:8080/",
          "height": 68
        }
      },
      "cell_type": "code",
      "source": [
        "pprint(day)"
      ],
      "execution_count": 0,
      "outputs": [
        {
          "output_type": "stream",
          "text": [
            "{'dayOfMonth': {'Feb': 2, 'Jan': 1},\n",
            " 'dayOfWeek': ['Mon', 'Thu', 'Wed'],\n",
            " 'dayOfYeer': 3}\n"
          ],
          "name": "stdout"
        }
      ]
    },
    {
      "metadata": {
        "id": "ulVXqMffH0bT",
        "colab_type": "code",
        "outputId": "725799c5-2945-4c08-c8d4-20efea65008b",
        "colab": {
          "base_uri": "https://localhost:8080/",
          "height": 68
        }
      },
      "cell_type": "code",
      "source": [
        "day['dayOfYeer'] = 2019\n",
        "pprint(day)"
      ],
      "execution_count": 0,
      "outputs": [
        {
          "output_type": "stream",
          "text": [
            "{'dayOfMonth': {'Feb': 2, 'Jan': 1},\n",
            " 'dayOfWeek': ['Mon', 'Thu', 'Wed'],\n",
            " 'dayOfYeer': 2019}\n"
          ],
          "name": "stdout"
        }
      ]
    },
    {
      "metadata": {
        "id": "-dIGNgxQLALd",
        "colab_type": "text"
      },
      "cell_type": "markdown",
      "source": [
        "# Comprehension"
      ]
    },
    {
      "metadata": {
        "id": "wn9iKF3ELLhS",
        "colab_type": "text"
      },
      "cell_type": "markdown",
      "source": [
        "## String 쪼개기"
      ]
    },
    {
      "metadata": {
        "id": "w2YFpEnKOkh6",
        "colab_type": "text"
      },
      "cell_type": "markdown",
      "source": [
        "** split()을 사용하면 띄어쓰기를 기준으로 단어들을 쪼갤 수 있습니다.**"
      ]
    },
    {
      "metadata": {
        "id": "dYeHK8i4LO1T",
        "colab_type": "code",
        "colab": {
          "base_uri": "https://localhost:8080/",
          "height": 34
        },
        "outputId": "eee02938-8a60-4814-d7db-dba9d93e15dd"
      },
      "cell_type": "code",
      "source": [
        "docs = [\n",
        "    '안녕하세요. 파이썬입니다.'.split(),\n",
        "    '안녕히 계세요.'.split(),\n",
        "]\n",
        "\n",
        "print(docs)"
      ],
      "execution_count": 16,
      "outputs": [
        {
          "output_type": "stream",
          "text": [
            "[['안녕하세요.', '파이썬입니다.'], ['안녕히', '계세요.']]\n"
          ],
          "name": "stdout"
        }
      ]
    },
    {
      "metadata": {
        "id": "jqKmGTgjPdGL",
        "colab_type": "text"
      },
      "cell_type": "markdown",
      "source": [
        "## Flatten"
      ]
    },
    {
      "metadata": {
        "id": "X43eg5BbLpkT",
        "colab_type": "text"
      },
      "cell_type": "markdown",
      "source": [
        "위와 같은 rank=2의 string을 한줄로 길게 저장해보겠습니다.\n",
        "\n",
        "```\n",
        "word for doc in \"list_name\" for word in doc\n",
        "```\n",
        "\n",
        "의 형태로 하나의 list로 만들 수 있습니다. word와 doc은 다른 변수로 대체해도 되지만 이렇게 쓰는게 보기 편합니다. list 안에 있는 단락, 그 안에 단락을 가져와서 다시 배열로 선언하는 방식입니다. (for문 안에 for문이 있는 구조입니다.)"
      ]
    },
    {
      "metadata": {
        "id": "JBSbI-ScN3u6",
        "colab_type": "code",
        "colab": {
          "base_uri": "https://localhost:8080/",
          "height": 34
        },
        "outputId": "67cade15-912e-4ff3-8312-24c70e603e06"
      },
      "cell_type": "code",
      "source": [
        "flatten_doc = [word for doc in docs for word in doc]\n",
        "\n",
        "print(flatten_doc)"
      ],
      "execution_count": 19,
      "outputs": [
        {
          "output_type": "stream",
          "text": [
            "['안녕하세요.', '파이썬입니다.', '안녕히', '계세요.']\n"
          ],
          "name": "stdout"
        }
      ]
    },
    {
      "metadata": {
        "id": "PAKhzLQMQe76",
        "colab_type": "text"
      },
      "cell_type": "markdown",
      "source": [
        "또한 dictionary 자료구조로 저장 가능합니다."
      ]
    },
    {
      "metadata": {
        "id": "m1kjTcKTPmGf",
        "colab_type": "code",
        "colab": {
          "base_uri": "https://localhost:8080/",
          "height": 34
        },
        "outputId": "bd284abe-9e05-459d-ee27-fe0d5530b8a5"
      },
      "cell_type": "code",
      "source": [
        "flatten_doc_dict = {word for doc in docs for word in doc}\n",
        "\n",
        "## dictionary로도 저장된다.\n",
        "print(flatten_doc_dict)"
      ],
      "execution_count": 20,
      "outputs": [
        {
          "output_type": "stream",
          "text": [
            "{'계세요.', '안녕하세요.', '파이썬입니다.', '안녕히'}\n"
          ],
          "name": "stdout"
        }
      ]
    }
  ]
}