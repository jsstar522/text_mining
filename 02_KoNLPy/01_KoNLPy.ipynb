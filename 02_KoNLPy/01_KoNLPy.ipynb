{
  "nbformat": 4,
  "nbformat_minor": 0,
  "metadata": {
    "colab": {
      "name": "01_KoNLPy.ipynb",
      "version": "0.3.2",
      "provenance": [],
      "collapsed_sections": [],
      "include_colab_link": true
    },
    "kernelspec": {
      "name": "python3",
      "display_name": "Python 3"
    }
  },
  "cells": [
    {
      "cell_type": "markdown",
      "metadata": {
        "id": "view-in-github",
        "colab_type": "text"
      },
      "source": [
        "<a href=\"https://colab.research.google.com/github/jsstar522/text_mining/blob/master/02_KoNLPy/01_KoNLPy.ipynb\" target=\"_parent\"><img src=\"https://colab.research.google.com/assets/colab-badge.svg\" alt=\"Open In Colab\"/></a>"
      ]
    },
    {
      "metadata": {
        "id": "9wan6jefnIbN",
        "colab_type": "text"
      },
      "cell_type": "markdown",
      "source": [
        "# 데이터 가져오기\n",
        "\n",
        "데이터는 영화 댓글을 이용합니다. **wget**을 이용해 샘플파일을 다운로드합니다."
      ]
    },
    {
      "metadata": {
        "id": "bv8LWjzoKxYj",
        "colab_type": "code",
        "colab": {}
      },
      "cell_type": "code",
      "source": [
        "!wget https://raw.githubusercontent.com/jsstar522/text_mining/master/02_KoNLPy/lalaland_comments.txt"
      ],
      "execution_count": 0,
      "outputs": []
    },
    {
      "metadata": {
        "id": "w05ealxYLU7D",
        "colab_type": "code",
        "colab": {}
      },
      "cell_type": "code",
      "source": [
        "!ls"
      ],
      "execution_count": 0,
      "outputs": []
    },
    {
      "metadata": {
        "id": "5L-IoyvbonRd",
        "colab_type": "text"
      },
      "cell_type": "markdown",
      "source": [
        "샘플파일을 받았으니 살펴봅니다."
      ]
    },
    {
      "metadata": {
        "id": "Ex3P8I0oLxGp",
        "colab_type": "code",
        "colab": {}
      },
      "cell_type": "code",
      "source": [
        "df = './lalaland_comments.txt'"
      ],
      "execution_count": 0,
      "outputs": []
    },
    {
      "metadata": {
        "id": "lfPgMG8UMNTF",
        "colab_type": "code",
        "colab": {}
      },
      "cell_type": "code",
      "source": [
        "f = open(\"./lalaland_comments.txt\", 'r')\n",
        "data = f.read()\n",
        "print(data)\n",
        "f.close()"
      ],
      "execution_count": 0,
      "outputs": []
    },
    {
      "metadata": {
        "id": "QlX_w0K-Zzq0",
        "colab_type": "text"
      },
      "cell_type": "markdown",
      "source": [
        "text파일의 내용은 댓글과 함께 tab으로 구분해서 평점이 나열됩니다."
      ]
    },
    {
      "metadata": {
        "id": "p5xEiYywTSHA",
        "colab_type": "text"
      },
      "cell_type": "markdown",
      "source": [
        "# 명사 출력하기"
      ]
    },
    {
      "metadata": {
        "id": "uxAHF9LkTgWi",
        "colab_type": "text"
      },
      "cell_type": "markdown",
      "source": [
        "## KoNLPy\n",
        "**KoNLPy**는 한국어 텍스트 데이터를 전처리하는데 사용되는 python 패키지 모듈입니다. 품사태깅, 명사추출이 가능합니다. KoNLPy에는 KOMORAN, Twitter 분석기 등이 들어있습니다."
      ]
    },
    {
      "metadata": {
        "id": "qb-eGdPIcjjK",
        "colab_type": "text"
      },
      "cell_type": "markdown",
      "source": [
        "먼저 파이썬에서 자바로 구현된 형태소 분석기를 사용할 수 있도록 자바를 설치합니다."
      ]
    },
    {
      "metadata": {
        "id": "UMcCqX4Ob-Ya",
        "colab_type": "code",
        "colab": {}
      },
      "cell_type": "code",
      "source": [
        "!apt-get install g++ openjdk-7-jdk python-dev python3-dev"
      ],
      "execution_count": 0,
      "outputs": []
    },
    {
      "metadata": {
        "id": "mZQ99d-VdKKD",
        "colab_type": "text"
      },
      "cell_type": "markdown",
      "source": [
        "이제 pip install을 이용해서 **KoNLPy**를 설치합니다."
      ]
    },
    {
      "metadata": {
        "id": "_axjVocAcw_A",
        "colab_type": "code",
        "colab": {}
      },
      "cell_type": "code",
      "source": [
        "!pip3 install konlpy"
      ],
      "execution_count": 0,
      "outputs": []
    },
    {
      "metadata": {
        "id": "2Hp9kMcgdV4O",
        "colab_type": "text"
      },
      "cell_type": "markdown",
      "source": [
        "KoNLPy를 설치하면 KOMORAN, OKT(Twitter 분석기), KKMA(꼬꼬마)를 사용할 수 있습니다."
      ]
    },
    {
      "metadata": {
        "id": "mkHwhDqGZOf0",
        "colab_type": "code",
        "colab": {}
      },
      "cell_type": "code",
      "source": [
        "import konlpy\n",
        "from konlpy.tag import Komoran, Okt, Kkma"
      ],
      "execution_count": 0,
      "outputs": []
    },
    {
      "metadata": {
        "id": "PcMGN9-LdU4g",
        "colab_type": "text"
      },
      "cell_type": "markdown",
      "source": [
        "형태소 분석기를 이용해서 문장의 형태소를 분석합니다."
      ]
    },
    {
      "metadata": {
        "id": "QhFIIxQAZap5",
        "colab_type": "code",
        "colab": {
          "base_uri": "https://localhost:8080/",
          "height": 139
        },
        "outputId": "25807363-6024-4449-e0b2-33fc875395b8"
      },
      "cell_type": "code",
      "source": [
        "sent = \"안녕하세요 KoNLPy 튜토리얼에 오신것을 환영합니다. 저는 jsstar522 입니다.\"\n",
        "komoran = Komoran()\n",
        "twitter = Okt()\n",
        "kkma = Kkma()\n",
        "\n",
        "print(\"-------using komoran-------\")\n",
        "komoranText = komoran.pos(sent)\n",
        "print(komoranText)\n",
        "\n",
        "print(\"-------using twitter-------\")\n",
        "twitterText = twitter.pos(sent)\n",
        "print(twitterText)\n",
        "\n",
        "print(\"-------using kkma-------\")\n",
        "kkmaText = kkma.pos(sent)\n",
        "print(kkmaText)\n"
      ],
      "execution_count": 60,
      "outputs": [
        {
          "output_type": "stream",
          "text": [
            "-------using komoran-------\n",
            "[('안녕하세요', 'NNP'), ('KoNLPy', 'SL'), ('튜토리얼에', 'NA'), ('오신', 'NNP'), ('것', 'NNB'), ('을', 'JKO'), ('환영', 'NNG'), ('하', 'XSV'), ('ㅂ니다', 'EF'), ('.', 'SF'), ('저', 'NP'), ('는', 'JX'), ('jsstar', 'SL'), ('522', 'NNP'), ('이', 'VCP'), ('ㅂ니다', 'EF'), ('.', 'SF')]\n",
            "-------using twitter-------\n",
            "[('안녕하세요', 'Adjective'), ('KoNLPy', 'Alpha'), ('튜토리얼', 'Noun'), ('에', 'Josa'), ('오신것을', 'Verb'), ('환영', 'Noun'), ('합니다', 'Verb'), ('.', 'Punctuation'), ('저', 'Noun'), ('는', 'Josa'), ('jsstar', 'Alpha'), ('522', 'Number'), ('입니다', 'Adjective'), ('.', 'Punctuation')]\n",
            "-------using kkma-------\n",
            "[('안녕', 'NNG'), ('하', 'XSV'), ('세요', 'EFN'), ('KoNLPy', 'OL'), ('튜', 'UN'), ('토리', 'NNG'), ('얼', 'NNG'), ('에', 'JKM'), ('오시', 'VV'), ('ㄴ', 'ETD'), ('것', 'NNB'), ('을', 'JKO'), ('환영', 'NNG'), ('하', 'XSV'), ('ㅂ니다', 'EFN'), ('.', 'SF'), ('저', 'NP'), ('는', 'JX'), ('jsstar', 'OL'), ('522', 'NR'), ('이', 'VCP'), ('ㅂ니다', 'EFN'), ('.', 'SF')]\n"
          ],
          "name": "stdout"
        }
      ]
    },
    {
      "metadata": {
        "id": "k2ij3CXpgOSJ",
        "colab_type": "text"
      },
      "cell_type": "markdown",
      "source": [
        "형태소 분석기마다 tag도 다르고 tagging 방식도 조금씩 다른 것을 알 수 있습니다. 각각의 tag가 뭘 의미하는지 확인하려면 다음과 같이 진행합니다."
      ]
    },
    {
      "metadata": {
        "id": "Qs_3ACltgazI",
        "colab_type": "code",
        "colab": {
          "base_uri": "https://localhost:8080/",
          "height": 782
        },
        "outputId": "9664a242-dd75-41ab-91c8-013b4446971f"
      },
      "cell_type": "code",
      "source": [
        "komoran.tagset\n",
        "##twitter.tagset\n",
        "##kkma.tagset"
      ],
      "execution_count": 64,
      "outputs": [
        {
          "output_type": "execute_result",
          "data": {
            "text/plain": [
              "{'EC': '연결 어미',\n",
              " 'EF': '종결 어미',\n",
              " 'EP': '선어말어미',\n",
              " 'ETM': '관형형 전성 어미',\n",
              " 'ETN': '명사형 전성 어미',\n",
              " 'IC': '감탄사',\n",
              " 'JC': '접속 조사',\n",
              " 'JKB': '부사격 조사',\n",
              " 'JKC': '보격 조사',\n",
              " 'JKG': '관형격 조사',\n",
              " 'JKO': '목적격 조사',\n",
              " 'JKQ': '인용격 조사',\n",
              " 'JKS': '주격 조사',\n",
              " 'JKV': '호격 조사',\n",
              " 'JX': '보조사',\n",
              " 'MAG': '일반 부사',\n",
              " 'MAJ': '접속 부사',\n",
              " 'MM': '관형사',\n",
              " 'NA': '분석불능범주',\n",
              " 'NF': '명사추정범주',\n",
              " 'NNB': '의존 명사',\n",
              " 'NNG': '일반 명사',\n",
              " 'NNP': '고유 명사',\n",
              " 'NP': '대명사',\n",
              " 'NR': '수사',\n",
              " 'NV': '용언추정범주',\n",
              " 'SE': '줄임표',\n",
              " 'SF': '마침표, 물음표, 느낌표',\n",
              " 'SH': '한자',\n",
              " 'SL': '외국어',\n",
              " 'SN': '숫자',\n",
              " 'SO': '붙임표(물결,숨김,빠짐)',\n",
              " 'SP': '쉼표,가운뎃점,콜론,빗금',\n",
              " 'SS': '따옴표,괄호표,줄표',\n",
              " 'SW': '기타기호 (논리수학기호,화폐기호)',\n",
              " 'VA': '형용사',\n",
              " 'VCN': '부정 지정사',\n",
              " 'VCP': '긍정 지정사',\n",
              " 'VV': '동사',\n",
              " 'VX': '보조 용언',\n",
              " 'XPN': '체언 접두사',\n",
              " 'XR': '어근',\n",
              " 'XSA': '형용사 파생 접미사',\n",
              " 'XSN': '명사파생 접미사',\n",
              " 'XSV': '동사 파생 접미사'}"
            ]
          },
          "metadata": {
            "tags": []
          },
          "execution_count": 64
        }
      ]
    },
    {
      "metadata": {
        "id": "PMpf1Y-RhfJX",
        "colab_type": "text"
      },
      "cell_type": "markdown",
      "source": [
        "## Eunjeon 형태소 분석기\n",
        "KoNLPy랑 현재 통합진행 중인 형태소분석기 **은전**은 좋은 성능을 자랑합니다. 아직 KoNLPy 패키지에 들어가지 않았기 때문에 따로 설치를 진행합니다."
      ]
    },
    {
      "metadata": {
        "id": "od5Ql0EJhYns",
        "colab_type": "code",
        "colab": {}
      },
      "cell_type": "code",
      "source": [
        "!bash <(curl -s https://raw.githubusercontent.com/koshort/peunjeon/master/scripts/mecab.sh)"
      ],
      "execution_count": 0,
      "outputs": []
    },
    {
      "metadata": {
        "id": "YBgdKTH7gvsp",
        "colab_type": "code",
        "colab": {}
      },
      "cell_type": "code",
      "source": [
        "!pip3 install eunjeon"
      ],
      "execution_count": 0,
      "outputs": []
    },
    {
      "metadata": {
        "id": "PmeZ94g5h9O8",
        "colab_type": "code",
        "colab": {
          "base_uri": "https://localhost:8080/",
          "height": 847
        },
        "outputId": "ed797fca-b14b-4b32-8e57-906ae359cf62"
      },
      "cell_type": "code",
      "source": [
        "from eunjeon import Mecab\n",
        "tagger = Mecab()"
      ],
      "execution_count": 73,
      "outputs": [
        {
          "output_type": "error",
          "ename": "Exception",
          "evalue": "ignored",
          "traceback": [
            "\u001b[0;31m---------------------------------------------------------------------------\u001b[0m",
            "\u001b[0;31mRuntimeError\u001b[0m                              Traceback (most recent call last)",
            "\u001b[0;32m/usr/local/lib/python3.6/dist-packages/eunjeon/_mecab.py\u001b[0m in \u001b[0;36m__init__\u001b[0;34m(self, dicpath)\u001b[0m\n\u001b[1;32m    100\u001b[0m         \u001b[0;32mtry\u001b[0m\u001b[0;34m:\u001b[0m\u001b[0;34m\u001b[0m\u001b[0;34m\u001b[0m\u001b[0m\n\u001b[0;32m--> 101\u001b[0;31m             \u001b[0mself\u001b[0m\u001b[0;34m.\u001b[0m\u001b[0mtagger\u001b[0m \u001b[0;34m=\u001b[0m \u001b[0mTagger\u001b[0m\u001b[0;34m(\u001b[0m\u001b[0;34m'--rcfile %s'\u001b[0m \u001b[0;34m%\u001b[0m \u001b[0mdicpath\u001b[0m\u001b[0;34m)\u001b[0m\u001b[0;34m\u001b[0m\u001b[0;34m\u001b[0m\u001b[0m\n\u001b[0m\u001b[1;32m    102\u001b[0m         \u001b[0;32mexcept\u001b[0m \u001b[0mRuntimeError\u001b[0m\u001b[0;34m:\u001b[0m\u001b[0;34m\u001b[0m\u001b[0;34m\u001b[0m\u001b[0m\n",
            "\u001b[0;32m/usr/local/lib/python3.6/dist-packages/eunjeon/mecab.py\u001b[0m in \u001b[0;36m__init__\u001b[0;34m(self, *args)\u001b[0m\n\u001b[1;32m    527\u001b[0m     \u001b[0;32mdef\u001b[0m \u001b[0m__init__\u001b[0m\u001b[0;34m(\u001b[0m\u001b[0mself\u001b[0m\u001b[0;34m,\u001b[0m \u001b[0;34m*\u001b[0m\u001b[0margs\u001b[0m\u001b[0;34m)\u001b[0m\u001b[0;34m:\u001b[0m\u001b[0;34m\u001b[0m\u001b[0;34m\u001b[0m\u001b[0m\n\u001b[0;32m--> 528\u001b[0;31m         \u001b[0mthis\u001b[0m \u001b[0;34m=\u001b[0m \u001b[0m_MeCab\u001b[0m\u001b[0;34m.\u001b[0m\u001b[0mnew_Tagger\u001b[0m\u001b[0;34m(\u001b[0m\u001b[0;34m*\u001b[0m\u001b[0margs\u001b[0m\u001b[0;34m)\u001b[0m\u001b[0;34m\u001b[0m\u001b[0;34m\u001b[0m\u001b[0m\n\u001b[0m\u001b[1;32m    529\u001b[0m         \u001b[0;32mtry\u001b[0m\u001b[0;34m:\u001b[0m\u001b[0;34m\u001b[0m\u001b[0;34m\u001b[0m\u001b[0m\n",
            "\u001b[0;31mRuntimeError\u001b[0m: ",
            "\nDuring handling of the above exception, another exception occurred:\n",
            "\u001b[0;31mRuntimeError\u001b[0m                              Traceback (most recent call last)",
            "\u001b[0;32m/usr/local/lib/python3.6/dist-packages/eunjeon/_mecab.py\u001b[0m in \u001b[0;36m__init__\u001b[0;34m(self, dicpath)\u001b[0m\n\u001b[1;32m    103\u001b[0m             \u001b[0;32mtry\u001b[0m\u001b[0;34m:\u001b[0m  \u001b[0;31m# Sometimes it works when we try twice.\u001b[0m\u001b[0;34m\u001b[0m\u001b[0;34m\u001b[0m\u001b[0m\n\u001b[0;32m--> 104\u001b[0;31m                 \u001b[0mself\u001b[0m\u001b[0;34m.\u001b[0m\u001b[0mtagger\u001b[0m \u001b[0;34m=\u001b[0m \u001b[0mTagger\u001b[0m\u001b[0;34m(\u001b[0m\u001b[0;34m'--rcfile %s'\u001b[0m \u001b[0;34m%\u001b[0m \u001b[0mdicpath\u001b[0m\u001b[0;34m)\u001b[0m\u001b[0;34m\u001b[0m\u001b[0;34m\u001b[0m\u001b[0m\n\u001b[0m\u001b[1;32m    105\u001b[0m             \u001b[0;32mexcept\u001b[0m \u001b[0mRuntimeError\u001b[0m\u001b[0;34m:\u001b[0m\u001b[0;34m\u001b[0m\u001b[0;34m\u001b[0m\u001b[0m\n",
            "\u001b[0;32m/usr/local/lib/python3.6/dist-packages/eunjeon/mecab.py\u001b[0m in \u001b[0;36m__init__\u001b[0;34m(self, *args)\u001b[0m\n\u001b[1;32m    527\u001b[0m     \u001b[0;32mdef\u001b[0m \u001b[0m__init__\u001b[0m\u001b[0;34m(\u001b[0m\u001b[0mself\u001b[0m\u001b[0;34m,\u001b[0m \u001b[0;34m*\u001b[0m\u001b[0margs\u001b[0m\u001b[0;34m)\u001b[0m\u001b[0;34m:\u001b[0m\u001b[0;34m\u001b[0m\u001b[0;34m\u001b[0m\u001b[0m\n\u001b[0;32m--> 528\u001b[0;31m         \u001b[0mthis\u001b[0m \u001b[0;34m=\u001b[0m \u001b[0m_MeCab\u001b[0m\u001b[0;34m.\u001b[0m\u001b[0mnew_Tagger\u001b[0m\u001b[0;34m(\u001b[0m\u001b[0;34m*\u001b[0m\u001b[0margs\u001b[0m\u001b[0;34m)\u001b[0m\u001b[0;34m\u001b[0m\u001b[0;34m\u001b[0m\u001b[0m\n\u001b[0m\u001b[1;32m    529\u001b[0m         \u001b[0;32mtry\u001b[0m\u001b[0;34m:\u001b[0m\u001b[0;34m\u001b[0m\u001b[0;34m\u001b[0m\u001b[0m\n",
            "\u001b[0;31mRuntimeError\u001b[0m: ",
            "\nDuring handling of the above exception, another exception occurred:\n",
            "\u001b[0;31mException\u001b[0m                                 Traceback (most recent call last)",
            "\u001b[0;32m<ipython-input-73-933aec681e48>\u001b[0m in \u001b[0;36m<module>\u001b[0;34m()\u001b[0m\n\u001b[1;32m      1\u001b[0m \u001b[0;32mfrom\u001b[0m \u001b[0meunjeon\u001b[0m \u001b[0;32mimport\u001b[0m \u001b[0mMecab\u001b[0m\u001b[0;34m\u001b[0m\u001b[0;34m\u001b[0m\u001b[0m\n\u001b[0;32m----> 2\u001b[0;31m \u001b[0mtagger\u001b[0m \u001b[0;34m=\u001b[0m \u001b[0mMecab\u001b[0m\u001b[0;34m(\u001b[0m\u001b[0;34m)\u001b[0m\u001b[0;34m\u001b[0m\u001b[0;34m\u001b[0m\u001b[0m\n\u001b[0m",
            "\u001b[0;32m/usr/local/lib/python3.6/dist-packages/eunjeon/_mecab.py\u001b[0m in \u001b[0;36m__init__\u001b[0;34m(self, dicpath)\u001b[0m\n\u001b[1;32m    104\u001b[0m                 \u001b[0mself\u001b[0m\u001b[0;34m.\u001b[0m\u001b[0mtagger\u001b[0m \u001b[0;34m=\u001b[0m \u001b[0mTagger\u001b[0m\u001b[0;34m(\u001b[0m\u001b[0;34m'--rcfile %s'\u001b[0m \u001b[0;34m%\u001b[0m \u001b[0mdicpath\u001b[0m\u001b[0;34m)\u001b[0m\u001b[0;34m\u001b[0m\u001b[0;34m\u001b[0m\u001b[0m\n\u001b[1;32m    105\u001b[0m             \u001b[0;32mexcept\u001b[0m \u001b[0mRuntimeError\u001b[0m\u001b[0;34m:\u001b[0m\u001b[0;34m\u001b[0m\u001b[0;34m\u001b[0m\u001b[0m\n\u001b[0;32m--> 106\u001b[0;31m                 \u001b[0;32mraise\u001b[0m \u001b[0mException\u001b[0m\u001b[0;34m(\u001b[0m\u001b[0;34m'The MeCab dictionary does not exist at \"%s\". Is the dictionary correctly installed?\\nYou can also try entering the dictionary path when initializing the Mecab class: \"Mecab(\\'/some/dic/path\\')\"'\u001b[0m \u001b[0;34m%\u001b[0m \u001b[0mdicpath\u001b[0m\u001b[0;34m)\u001b[0m\u001b[0;34m\u001b[0m\u001b[0;34m\u001b[0m\u001b[0m\n\u001b[0m\u001b[1;32m    107\u001b[0m         \u001b[0;32mexcept\u001b[0m \u001b[0mNameError\u001b[0m\u001b[0;34m:\u001b[0m\u001b[0;34m\u001b[0m\u001b[0;34m\u001b[0m\u001b[0m\n\u001b[1;32m    108\u001b[0m             \u001b[0;32mraise\u001b[0m \u001b[0mException\u001b[0m\u001b[0;34m(\u001b[0m\u001b[0;34m'Install MeCab in order to use it: https://github.com/koshort/pyeunjeon/'\u001b[0m\u001b[0;34m)\u001b[0m\u001b[0;34m\u001b[0m\u001b[0;34m\u001b[0m\u001b[0m\n",
            "\u001b[0;31mException\u001b[0m: The MeCab dictionary does not exist at \"/usr/local/lib/python3.6/dist-packages/eunjeon/data/mecabrc\". Is the dictionary correctly installed?\nYou can also try entering the dictionary path when initializing the Mecab class: \"Mecab('/some/dic/path')\""
          ]
        }
      ]
    }
  ]
}