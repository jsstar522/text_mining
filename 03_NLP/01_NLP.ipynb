{
  "nbformat": 4,
  "nbformat_minor": 0,
  "metadata": {
    "colab": {
      "name": "01_NLP.ipynb",
      "version": "0.3.2",
      "provenance": [],
      "collapsed_sections": [],
      "include_colab_link": true
    },
    "kernelspec": {
      "name": "python3",
      "display_name": "Python 3"
    }
  },
  "cells": [
    {
      "cell_type": "markdown",
      "metadata": {
        "id": "view-in-github",
        "colab_type": "text"
      },
      "source": [
        "<a href=\"https://colab.research.google.com/github/jsstar522/text_mining/blob/master/03_NLP/01_NLP.ipynb\" target=\"_parent\"><img src=\"https://colab.research.google.com/assets/colab-badge.svg\" alt=\"Open In Colab\"/></a>"
      ]
    },
    {
      "metadata": {
        "id": "F58cxzLz1giK",
        "colab_type": "text"
      },
      "cell_type": "markdown",
      "source": [
        "# NLP\n",
        "텍스트 분석의 전처리 단계는 다음과 크게 다음 순서로 나눠집니다.\n",
        "1. Tokenize Text\n",
        "2. Tag Tokens\n",
        "3. Lank Tokens"
      ]
    },
    {
      "metadata": {
        "id": "5i2CZ3Am95_n",
        "colab_type": "text"
      },
      "cell_type": "markdown",
      "source": [
        "## NLKT\n",
        "텍스트 토큰화를 위해 **NLKT**(Natural Language Toolkit) 파이썬 패키지를 사용합니다. NLKT는 자연어처리 패키지로 교육용으로 제공되기 때문에 다양한 예제를 쉽게 받아서 테스트해볼 수 있습니다. "
      ]
    },
    {
      "metadata": {
        "id": "a457hOQC7is_",
        "colab_type": "code",
        "colab": {}
      },
      "cell_type": "code",
      "source": [
        "!pip3 install nltk"
      ],
      "execution_count": 0,
      "outputs": []
    },
    {
      "metadata": {
        "id": "0HqGInz27nzo",
        "colab_type": "text"
      },
      "cell_type": "markdown",
      "source": [
        "### Corpus\n",
        "Corpus는 말뭉치라는 의미입니다. **NLKT는 자연어 분석 처리를 위한 샘플 말뭉치를 제공합니다.** 다음과 같이 말뭉치를 가져올 수 있습니다."
      ]
    },
    {
      "metadata": {
        "id": "GKRQJl2L9ZeE",
        "colab_type": "code",
        "colab": {
          "base_uri": "https://localhost:8080/",
          "height": 238
        },
        "outputId": "ac54b714-ed27-4262-94ba-08364f09f7f5"
      },
      "cell_type": "code",
      "source": [
        "import nltk\n",
        "nltk.download('book', quiet=True)\n",
        "from nltk.book import *"
      ],
      "execution_count": 6,
      "outputs": [
        {
          "output_type": "stream",
          "text": [
            "*** Introductory Examples for the NLTK Book ***\n",
            "Loading text1, ..., text9 and sent1, ..., sent9\n",
            "Type the name of the text or sentence to view it.\n",
            "Type: 'texts()' or 'sents()' to list the materials.\n",
            "text1: Moby Dick by Herman Melville 1851\n",
            "text2: Sense and Sensibility by Jane Austen 1811\n",
            "text3: The Book of Genesis\n",
            "text4: Inaugural Address Corpus\n",
            "text5: Chat Corpus\n",
            "text6: Monty Python and the Holy Grail\n",
            "text7: Wall Street Journal\n",
            "text8: Personals Corpus\n",
            "text9: The Man Who Was Thursday by G . K . Chesterton 1908\n"
          ],
          "name": "stdout"
        }
      ]
    },
    {
      "metadata": {
        "id": "IZxPfx549c_w",
        "colab_type": "text"
      },
      "cell_type": "markdown",
      "source": [
        "저작권이 사라진 문학작품을 불러올 수도 있습니다."
      ]
    },
    {
      "metadata": {
        "id": "36JFZHi0-f31",
        "colab_type": "code",
        "colab": {
          "base_uri": "https://localhost:8080/",
          "height": 323
        },
        "outputId": "64482882-c84a-473d-9961-74c2b1ff1235"
      },
      "cell_type": "code",
      "source": [
        "nltk.corpus.gutenberg.fileids()"
      ],
      "execution_count": 7,
      "outputs": [
        {
          "output_type": "execute_result",
          "data": {
            "text/plain": [
              "['austen-emma.txt',\n",
              " 'austen-persuasion.txt',\n",
              " 'austen-sense.txt',\n",
              " 'bible-kjv.txt',\n",
              " 'blake-poems.txt',\n",
              " 'bryant-stories.txt',\n",
              " 'burgess-busterbrown.txt',\n",
              " 'carroll-alice.txt',\n",
              " 'chesterton-ball.txt',\n",
              " 'chesterton-brown.txt',\n",
              " 'chesterton-thursday.txt',\n",
              " 'edgeworth-parents.txt',\n",
              " 'melville-moby_dick.txt',\n",
              " 'milton-paradise.txt',\n",
              " 'shakespeare-caesar.txt',\n",
              " 'shakespeare-hamlet.txt',\n",
              " 'shakespeare-macbeth.txt',\n",
              " 'whitman-leaves.txt']"
            ]
          },
          "metadata": {
            "tags": []
          },
          "execution_count": 7
        }
      ]
    },
    {
      "metadata": {
        "id": "nU4Ge_5r-q4x",
        "colab_type": "text"
      },
      "cell_type": "markdown",
      "source": [
        "이 중에서 첫번째 문학작품인 **austen-emma.txt** 작품을 불러오겠습니다. raw text 형식으로 저장되어 있습니다. slice로 원하는 부분만 잘라낼 수도 있습니다."
      ]
    },
    {
      "metadata": {
        "id": "E4c8diIT-0ew",
        "colab_type": "code",
        "colab": {
          "base_uri": "https://localhost:8080/",
          "height": 272
        },
        "outputId": "6494330d-de24-4883-858e-93b67679fa07"
      },
      "cell_type": "code",
      "source": [
        "emma_raw = nltk.corpus.gutenberg.raw(\"austen-emma.txt\")\n",
        "print(emma_raw[:477])"
      ],
      "execution_count": 19,
      "outputs": [
        {
          "output_type": "stream",
          "text": [
            "[Emma by Jane Austen 1816]\n",
            "\n",
            "VOLUME I\n",
            "\n",
            "CHAPTER I\n",
            "\n",
            "\n",
            "Emma Woodhouse, handsome, clever, and rich, with a comfortable home\n",
            "and happy disposition, seemed to unite some of the best blessings\n",
            "of existence; and had lived nearly twenty-one years in the world\n",
            "with very little to distress or vex her.\n",
            "\n",
            "She was the youngest of the two daughters of a most affectionate,\n",
            "indulgent father; and had, in consequence of her sister's marriage,\n",
            "been mistress of his house from a very early period.\n"
          ],
          "name": "stdout"
        }
      ]
    },
    {
      "metadata": {
        "id": "M5Lmx-mU---A",
        "colab_type": "text"
      },
      "cell_type": "markdown",
      "source": [
        "### Tokenize\n",
        "긴 문장을 잘게 나누는 작업을 **tokenize**라고 합니다. 작은 단위(token)는 문장이 될 수도 있고 단어가 될 수도 있습니다."
      ]
    },
    {
      "metadata": {
        "id": "bCy-tJ25ADY8",
        "colab_type": "code",
        "colab": {
          "base_uri": "https://localhost:8080/",
          "height": 54
        },
        "outputId": "203336ef-c2f4-4079-b0df-4b8276e0ec46"
      },
      "cell_type": "code",
      "source": [
        "## 문장 tokenize\n",
        "from nltk.tokenize import sent_tokenize\n",
        "print(sent_tokenize(emma_raw[:477]))"
      ],
      "execution_count": 21,
      "outputs": [
        {
          "output_type": "stream",
          "text": [
            "['[Emma by Jane Austen 1816]\\n\\nVOLUME I\\n\\nCHAPTER I\\n\\n\\nEmma Woodhouse, handsome, clever, and rich, with a comfortable home\\nand happy disposition, seemed to unite some of the best blessings\\nof existence; and had lived nearly twenty-one years in the world\\nwith very little to distress or vex her.', \"She was the youngest of the two daughters of a most affectionate,\\nindulgent father; and had, in consequence of her sister's marriage,\\nbeen mistress of his house from a very early period.\"]\n"
          ],
          "name": "stdout"
        }
      ]
    },
    {
      "metadata": {
        "id": "Er9rYJh8A0vB",
        "colab_type": "text"
      },
      "cell_type": "markdown",
      "source": [
        "0~477개의 문자로 된 문단을 문장 단위로 tokenize 했습니다. 배열 안에 요소하나가 문장 하나를 이루고 있습니다."
      ]
    },
    {
      "metadata": {
        "id": "drbgoF6BBACp",
        "colab_type": "code",
        "colab": {
          "base_uri": "https://localhost:8080/",
          "height": 71
        },
        "outputId": "479ced2e-b26e-4072-c920-010d26155bc8"
      },
      "cell_type": "code",
      "source": [
        "## 단어 tokenize\n",
        "from nltk.tokenize import word_tokenize\n",
        "print(word_tokenize(emma_raw[:477]))\n",
        "print(len(word_tokenize(emma_raw[:477])))"
      ],
      "execution_count": 23,
      "outputs": [
        {
          "output_type": "stream",
          "text": [
            "['[', 'Emma', 'by', 'Jane', 'Austen', '1816', ']', 'VOLUME', 'I', 'CHAPTER', 'I', 'Emma', 'Woodhouse', ',', 'handsome', ',', 'clever', ',', 'and', 'rich', ',', 'with', 'a', 'comfortable', 'home', 'and', 'happy', 'disposition', ',', 'seemed', 'to', 'unite', 'some', 'of', 'the', 'best', 'blessings', 'of', 'existence', ';', 'and', 'had', 'lived', 'nearly', 'twenty-one', 'years', 'in', 'the', 'world', 'with', 'very', 'little', 'to', 'distress', 'or', 'vex', 'her', '.', 'She', 'was', 'the', 'youngest', 'of', 'the', 'two', 'daughters', 'of', 'a', 'most', 'affectionate', ',', 'indulgent', 'father', ';', 'and', 'had', ',', 'in', 'consequence', 'of', 'her', 'sister', \"'s\", 'marriage', ',', 'been', 'mistress', 'of', 'his', 'house', 'from', 'a', 'very', 'early', 'period', '.']\n",
            "96\n"
          ],
          "name": "stdout"
        }
      ]
    },
    {
      "metadata": {
        "id": "BxmSLndnBGmx",
        "colab_type": "text"
      },
      "cell_type": "markdown",
      "source": [
        "이번에는 0~477개의 문자로 된 문단을 단어 단위로 tokenize 했습니다. 특수문자를 포함해 총 96개의 단어가 있습니다. 특수문자를 제외하고 tokenize 할 수 있습니다."
      ]
    },
    {
      "metadata": {
        "id": "Du2y0e_cBamM",
        "colab_type": "code",
        "colab": {}
      },
      "cell_type": "code",
      "source": [
        "from nltk.tokenize import RegexpTokenizer\n",
        "retokenize = RegexpTokenizer(\"[\\w]+\")\n",
        "tokens = retokenize.tokenize(emma_raw[:477])"
      ],
      "execution_count": 0,
      "outputs": []
    },
    {
      "metadata": {
        "id": "tVam7Gi1FCzg",
        "colab_type": "text"
      },
      "cell_type": "markdown",
      "source": [
        "### 어간추출(stemming) 및 원형복원(lemmatizing)\n",
        "**어간추출**은 starting, focusing, wanted, dying..등과 같이 원형 단어에서 어미가 붙은 단어의 어미를 제거하는 것입니다. NLTK은 **porterstemmer**와 **lancasterstemmer**를 제공합니다."
      ]
    },
    {
      "metadata": {
        "id": "CADBD780F31m",
        "colab_type": "code",
        "colab": {}
      },
      "cell_type": "code",
      "source": [
        "words = ['starting', 'focusing', 'wanted', 'dying', 'living', 'crying']"
      ],
      "execution_count": 0,
      "outputs": []
    },
    {
      "metadata": {
        "id": "Z0vFzLaYILP3",
        "colab_type": "code",
        "colab": {
          "base_uri": "https://localhost:8080/",
          "height": 34
        },
        "outputId": "e84faf44-35b6-4db6-b8f8-c3a29afaf35d"
      },
      "cell_type": "code",
      "source": [
        "## porterstemmer\n",
        "from nltk.stem import PorterStemmer\n",
        "st = PorterStemmer()\n",
        "[st.stem(w) for w in words]"
      ],
      "execution_count": 50,
      "outputs": [
        {
          "output_type": "execute_result",
          "data": {
            "text/plain": [
              "['start', 'focus', 'want', 'die', 'live', 'cri']"
            ]
          },
          "metadata": {
            "tags": []
          },
          "execution_count": 50
        }
      ]
    },
    {
      "metadata": {
        "id": "qvCFM7c8IS7W",
        "colab_type": "code",
        "colab": {
          "base_uri": "https://localhost:8080/",
          "height": 34
        },
        "outputId": "2e0ecd01-2145-451b-b69c-22e2f6792e51"
      },
      "cell_type": "code",
      "source": [
        "## lancasterstemmer\n",
        "from nltk.stem import LancasterStemmer\n",
        "st = LancasterStemmer()\n",
        "[st.stem(w) for w in words]"
      ],
      "execution_count": 51,
      "outputs": [
        {
          "output_type": "execute_result",
          "data": {
            "text/plain": [
              "['start', 'focus', 'want', 'dying', 'liv', 'cry']"
            ]
          },
          "metadata": {
            "tags": []
          },
          "execution_count": 51
        }
      ]
    },
    {
      "metadata": {
        "id": "WNic_T8wIitN",
        "colab_type": "text"
      },
      "cell_type": "markdown",
      "source": [
        "**원형복원**은 여러 의미를 갖는 단어를 사전(dictionary)형으로 바꾸는 작업입니다. NLTK는 **WordNetLemmatizer**를 제공합니다. **pos옵션**으로 품사를 정해주면 더 정확하게 원형복원을 할 수 있습니다."
      ]
    },
    {
      "metadata": {
        "id": "ZUvQHJucJLLp",
        "colab_type": "code",
        "colab": {
          "base_uri": "https://localhost:8080/",
          "height": 34
        },
        "outputId": "55899407-cdca-4c6f-875f-7e177e35d212"
      },
      "cell_type": "code",
      "source": [
        "from nltk.stem import WordNetLemmatizer\n",
        "lm = WordNetLemmatizer()\n",
        "[lm.lemmatize(w) for w in words]"
      ],
      "execution_count": 52,
      "outputs": [
        {
          "output_type": "execute_result",
          "data": {
            "text/plain": [
              "['starting', 'focusing', 'wanted', 'dying', 'living', 'cry']"
            ]
          },
          "metadata": {
            "tags": []
          },
          "execution_count": 52
        }
      ]
    },
    {
      "metadata": {
        "id": "kwHv7EVZJkep",
        "colab_type": "code",
        "colab": {
          "base_uri": "https://localhost:8080/",
          "height": 34
        },
        "outputId": "6ccba538-a890-45b7-ff75-ce913cd1172e"
      },
      "cell_type": "code",
      "source": [
        "## v는 verb\n",
        "lm.lemmatize(\"starting\", pos='v')"
      ],
      "execution_count": 53,
      "outputs": [
        {
          "output_type": "execute_result",
          "data": {
            "text/plain": [
              "'start'"
            ]
          },
          "metadata": {
            "tags": []
          },
          "execution_count": 53
        }
      ]
    },
    {
      "metadata": {
        "id": "OhuDkem5J55-",
        "colab_type": "text"
      },
      "cell_type": "markdown",
      "source": [
        "### 품사 Tagging\n",
        "단어를 뽑아낸 뒤 해당하는 품사(Part of speech)를 태깅하는 작업입니다."
      ]
    },
    {
      "metadata": {
        "id": "JUATTNTDKJLm",
        "colab_type": "code",
        "colab": {
          "base_uri": "https://localhost:8080/",
          "height": 221
        },
        "outputId": "62f15bc2-ded8-4c04-bac5-7bf996619383"
      },
      "cell_type": "code",
      "source": [
        "from nltk.tag import pos_tag\n",
        "sentence = \"Hello. This is a NLP tutorial. My name is jsstar522\"\n",
        "tagged_list = pos_tag(word_tokenize(sentence))\n",
        "tagged_list"
      ],
      "execution_count": 54,
      "outputs": [
        {
          "output_type": "execute_result",
          "data": {
            "text/plain": [
              "[('Hello', 'NNP'),\n",
              " ('.', '.'),\n",
              " ('This', 'DT'),\n",
              " ('is', 'VBZ'),\n",
              " ('a', 'DT'),\n",
              " ('NLP', 'NNP'),\n",
              " ('tutorial', 'NN'),\n",
              " ('.', '.'),\n",
              " ('My', 'PRP$'),\n",
              " ('name', 'NN'),\n",
              " ('is', 'VBZ'),\n",
              " ('jsstar522', 'JJ')]"
            ]
          },
          "metadata": {
            "tags": []
          },
          "execution_count": 54
        }
      ]
    },
    {
      "metadata": {
        "id": "hKmM3qXiKnSH",
        "colab_type": "text"
      },
      "cell_type": "markdown",
      "source": [
        "품사태그에 대한 정보는 다음과 같이 확인합니다. NLTK의 품사 태그는 *Penn Treebank*의 기준을 사용합니다."
      ]
    },
    {
      "metadata": {
        "id": "TB4_lqqWK3km",
        "colab_type": "code",
        "colab": {
          "base_uri": "https://localhost:8080/",
          "height": 85
        },
        "outputId": "7327619a-697e-47fa-f019-c2022978a807"
      },
      "cell_type": "code",
      "source": [
        "nltk.help.upenn_tagset('NNP')"
      ],
      "execution_count": 55,
      "outputs": [
        {
          "output_type": "stream",
          "text": [
            "NNP: noun, proper, singular\n",
            "    Motown Venneboerger Czestochwa Ranzer Conchita Trumplane Christos\n",
            "    Oceanside Escobar Kreisler Sawyer Cougar Yvette Ervin ODI Darryl CTCA\n",
            "    Shannon A.K.C. Meltex Liverpool ...\n"
          ],
          "name": "stdout"
        }
      ]
    },
    {
      "metadata": {
        "id": "Nw8ZCJ6KLHWK",
        "colab_type": "text"
      },
      "cell_type": "markdown",
      "source": [
        "**pos_tag** 함수를 변수화해서 특정 품사에 해당하는 단어만 가져올 수도 있습니다."
      ]
    },
    {
      "metadata": {
        "id": "XDDlSc6aLO1f",
        "colab_type": "code",
        "colab": {
          "base_uri": "https://localhost:8080/",
          "height": 34
        },
        "outputId": "b3d4d3bc-14d5-412e-fb1b-2405e6fd7334"
      },
      "cell_type": "code",
      "source": [
        "[list[0] for list in tagged_list if list[1] == \"NN\" ]"
      ],
      "execution_count": 57,
      "outputs": [
        {
          "output_type": "execute_result",
          "data": {
            "text/plain": [
              "['tutorial', 'name']"
            ]
          },
          "metadata": {
            "tags": []
          },
          "execution_count": 57
        }
      ]
    },
    {
      "metadata": {
        "id": "RWggsJBCL3M8",
        "colab_type": "text"
      },
      "cell_type": "markdown",
      "source": [
        "**같은 단어라도 다른 품사를 가지고 있을 때 단어의 의미가 달라질 수 있으므로 텍스트 분석을 진행할 때 단어에 품사를 같이 붙여서 분석하는 것이 유리합니다.**"
      ]
    },
    {
      "metadata": {
        "id": "SVrYUusvEBys",
        "colab_type": "text"
      },
      "cell_type": "markdown",
      "source": [
        "### nltk.Text 클래스\n",
        "nltk.Text()는 tokenize를 포함한 다양한 기능을 제공합니다."
      ]
    },
    {
      "metadata": {
        "id": "RZz0cQfMEK1m",
        "colab_type": "code",
        "colab": {
          "base_uri": "https://localhost:8080/",
          "height": 34
        },
        "outputId": "747a2ded-b94c-4124-86f2-38c15170e6da"
      },
      "cell_type": "code",
      "source": [
        "a = nltk.Text(tokens)\n",
        "print (a)"
      ],
      "execution_count": 71,
      "outputs": [
        {
          "output_type": "stream",
          "text": [
            "<Text: Emma by Jane Austen 1816 VOLUME I CHAPTER...>\n"
          ],
          "name": "stdout"
        }
      ]
    },
    {
      "metadata": {
        "id": "-TwczcICNhu5",
        "colab_type": "text"
      },
      "cell_type": "markdown",
      "source": [
        "**vocab( )**으로 각 단어가 얼만큼 사용됐는지 뽑아낼 수 있습니다."
      ]
    },
    {
      "metadata": {
        "id": "d3qGAbxJEuhl",
        "colab_type": "code",
        "colab": {}
      },
      "cell_type": "code",
      "source": [
        "a.vocab()"
      ],
      "execution_count": 0,
      "outputs": []
    },
    {
      "metadata": {
        "id": "Fs5L6wvcMSn0",
        "colab_type": "text"
      },
      "cell_type": "markdown",
      "source": [
        "**plot()**을 통해 사용빈도를 그래프로 확인할 수 있습니다."
      ]
    },
    {
      "metadata": {
        "id": "3fiMOegeMXQG",
        "colab_type": "code",
        "colab": {
          "base_uri": "https://localhost:8080/",
          "height": 404
        },
        "outputId": "d23b4bda-f45b-4574-ca97-ee794e7ac579"
      },
      "cell_type": "code",
      "source": [
        "a.plot(30)"
      ],
      "execution_count": 90,
      "outputs": [
        {
          "output_type": "display_data",
          "data": {
            "image/png": "[encoded data removed]",
            "text/plain": [
              "<Figure size 576x396 with 1 Axes>"
            ]
          },
          "metadata": {
            "tags": []
          }
        }
      ]
    },
    {
      "metadata": {
        "id": "1tmz75dvMsk8",
        "colab_type": "text"
      },
      "cell_type": "markdown",
      "source": [
        "**dispersion_plot**은 단어가 어느 위치에서 사용됐는지 시각화 해줍니다."
      ]
    },
    {
      "metadata": {
        "id": "Xkr0otQIMwbl",
        "colab_type": "code",
        "colab": {
          "base_uri": "https://localhost:8080/",
          "height": 376
        },
        "outputId": "a61d389a-d13b-4722-a0f2-690f1663489c"
      },
      "cell_type": "code",
      "source": [
        "a.dispersion_plot([\"Emma\"])"
      ],
      "execution_count": 91,
      "outputs": [
        {
          "output_type": "display_data",
          "data": {
            "image/png": "[encoded data removed]",
            "text/plain": [
              "<Figure size 576x396 with 1 Axes>"
            ]
          },
          "metadata": {
            "tags": []
          }
        }
      ]
    },
    {
      "metadata": {
        "id": "p9xqzLbpNxVj",
        "colab_type": "text"
      },
      "cell_type": "markdown",
      "source": [
        "### 사용빈도 뽑아내기\n",
        "NLTK가 제공하는 **FreqDist**을 이용하면 특정 토큰의 사용 빈도수를 클래스에 담을 수 있습니다."
      ]
    },
    {
      "metadata": {
        "id": "5ZmwadZlN4yX",
        "colab_type": "code",
        "colab": {}
      },
      "cell_type": "code",
      "source": [
        "from nltk import FreqDist\n",
        "\n",
        "stopwords = [\"Mr.\", \"Mrs.\", \"Miss\", \"Mr\", \"Mrs\", \"Dear\"]\n",
        "tokens = pos_tag(retokenize.tokenize(emma_raw))\n",
        "names_list = [list[0] for list in tokens if list[1] == \"NNP\" and list[0] not in stopwords]\n",
        "fd_names = FreqDist(names_list)"
      ],
      "execution_count": 0,
      "outputs": []
    },
    {
      "metadata": {
        "id": "PrT2z9RPWAnv",
        "colab_type": "code",
        "colab": {
          "base_uri": "https://localhost:8080/",
          "height": 85
        },
        "outputId": "c3ed3683-df69-4d21-cc4a-10399d304c43"
      },
      "cell_type": "code",
      "source": [
        "##전체 단어 개수\n",
        "print(fd_names.N())\n",
        "##emma 단어 출현 개수\n",
        "print(fd_names[\"Emma\"])\n",
        "##emma 단어 출현 빈도(확률)\n",
        "print(fd_names.freq(\"Emma\"))\n",
        "##가장 높은 빈도수 단어 추출\n",
        "print(fd_names.most_common(5))"
      ],
      "execution_count": 81,
      "outputs": [
        {
          "output_type": "stream",
          "text": [
            "7863\n",
            "830\n",
            "0.10555767518758744\n",
            "[('Emma', 830), ('Harriet', 491), ('Weston', 439), ('Knightley', 389), ('Elton', 385)]\n"
          ],
          "name": "stdout"
        }
      ]
    },
    {
      "metadata": {
        "id": "nJmr3-K0Wn8q",
        "colab_type": "text"
      },
      "cell_type": "markdown",
      "source": [
        "## 워드클라우드\n",
        "빈도수가 높은 단어들로 워드클라우드를 만들 수 있습니다. 워드클라우드는 **wordcloud**라는 파이썬 라이브러리가 제공합니다. 워드클라우드를 렌더링(**imshow()**)하기 위해서 NLTK의 freqDist 형의 데이터가 들어가야 합니다."
      ]
    },
    {
      "metadata": {
        "id": "FbIT1gH8XRTX",
        "colab_type": "code",
        "colab": {
          "base_uri": "https://localhost:8080/",
          "height": 34
        },
        "outputId": "a38cdca4-8ca7-432d-eb2d-f9eb478d2f1e"
      },
      "cell_type": "code",
      "source": [
        "type(fd_names)"
      ],
      "execution_count": 83,
      "outputs": [
        {
          "output_type": "execute_result",
          "data": {
            "text/plain": [
              "nltk.probability.FreqDist"
            ]
          },
          "metadata": {
            "tags": []
          },
          "execution_count": 83
        }
      ]
    },
    {
      "metadata": {
        "id": "Z49euchYW1an",
        "colab_type": "code",
        "colab": {
          "base_uri": "https://localhost:8080/",
          "height": 320
        },
        "outputId": "0bb94338-67f0-4360-d3b2-cfe82b458791"
      },
      "cell_type": "code",
      "source": [
        "import matplotlib.pylab as plt\n",
        "from wordcloud import WordCloud\n",
        "wc = WordCloud(width=1000, height=600, background_color=\"white\", random_state=0)\n",
        "##freqDist형의 데이터가 들어가야 한다.\n",
        "plt.imshow(wc.generate_from_frequencies(fd_names))\n",
        "plt.axis(\"off\")\n",
        "plt.show()"
      ],
      "execution_count": 88,
      "outputs": [
        {
          "output_type": "display_data",
          "data": {
            "image/png": "[encoded data removed]",
            "text/plain": [
              "<Figure size 576x396 with 1 Axes>"
            ]
          },
          "metadata": {
            "tags": []
          }
        }
      ]
    }
  ]
}